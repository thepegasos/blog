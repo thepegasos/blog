{
 "cells": [
  {
   "cell_type": "markdown",
   "metadata": {},
   "source": [
    "# Kaggle Titanic with Linear Regression and Neural Network\n",
    "*without any Machine Learning framework! (TensorFlow, PyTorch, etc.)*"
   ]
  },
  {
   "cell_type": "markdown",
   "metadata": {},
   "source": [
    "# About\n",
    "\n",
    "This notebook and the efforts behind this are heavily inspired by [Prof. Jeremy Howard](https://twitter.com/jeremyphoward) and the [FastAI community](https://forums.fast.ai/c/p1v5/54)!\n",
    "\n",
    "In lesson 3 of Part 1 of the v2022 course, Prof. Howard takes us on a ride where he explains Machine Learning in a very simple and \n",
    "intuitive way. The theme of the lesson (unlike others) is no-code. We understand linear regression and Neural Nets\n",
    "from scratch by simple operations in Microsoft Excel. \n",
    "\n",
    "To understand thoroughly, I tried my hand at replicating what Jeremy did in the lecture – in excel. As I tried to implement it, I realized that Python is way more intuitive ***for me*** and I will learn more if I do this in Python than in excel. I am not much familiar with Excel and doing it in Python seemed like a good learning exercise. \n",
    "\n",
    "I had to figure out a few things along the way. Getting the dimensions of the matrices right and handling NumPy arrays was a pain but worth the try. Ultimately, I believe I have implemented the Lesson 3 excel file of the Kaggle Titanic dataset here in Python. \n",
    "\n",
    "A quick note about structure: \n",
    "- This notebook is a walkthrough and written with the intent to have every functionality that Jeremy has introduced in Lesson 3. \n",
    "- I did not want to take the help of any off-the-shelf Machine Learning frameworks so we build everything from scratch. Only Pandas and Numpy are used here. \n",
    "- Even for the solver, we build Gradient Decent from scratch with NumPy and import it here. \n",
    "- Feel free to look at `solver.py` in the repository (in `./supporting_files/2022-11-01-FastAI-Lesson3-Titanic-Python` directory). \n",
    "    - It has linear regression and deep learning versions of Gradient Decent algorithms. \n",
    "    - Any comments/suggestions are super welcome!\n",
    "    \n",
    "*Note*: We implement this with Matrix multiplication logic which Jeremy explained in the latter part of the lecture. "
   ]
  },
  {
   "cell_type": "markdown",
   "metadata": {},
   "source": [
    "### Step1: Let's improt libraries – pandas and numpy and have our solvers ready. "
   ]
  },
  {
   "cell_type": "code",
   "execution_count": 1,
   "metadata": {},
   "outputs": [],
   "source": [
    "# hide\n",
    "import sys\n",
    "import os\n",
    "THIS_FILE_DIR_PATH = os.getcwd()\n",
    "supporting_files_dir = os.path.join(THIS_FILE_DIR_PATH, \"supporting_files\", \"2022-11-01-FastAI-Lesson3-Titanic-Python\")\n",
    "sys.path.append(supporting_files_dir)"
   ]
  },
  {
   "cell_type": "code",
   "execution_count": 2,
   "metadata": {},
   "outputs": [],
   "source": [
    "import pandas as pd\n",
    "import numpy as np\n",
    "from solver import gradient_decent, gradient_decent_nn"
   ]
  },
  {
   "cell_type": "code",
   "execution_count": 3,
   "metadata": {},
   "outputs": [],
   "source": [
    "TRAIN_FILE_PATH = os.path.join(supporting_files_dir, \"titanic\", \"train.csv\")\n",
    "ITERATIONS = 80"
   ]
  },
  {
   "cell_type": "code",
   "execution_count": 4,
   "metadata": {},
   "outputs": [],
   "source": [
    "def load_data(file_path):\n",
    "    \"\"\"\n",
    "    loads csv and returns the dataframe\n",
    "    \"\"\"\n",
    "    df = pd.read_csv(file_path)\n",
    "    return df"
   ]
  },
  {
   "cell_type": "markdown",
   "metadata": {},
   "source": [
    "### Step 2: Let's load the data, and observe the columns"
   ]
  },
  {
   "cell_type": "code",
   "execution_count": 5,
   "metadata": {},
   "outputs": [
    {
     "data": {
      "text/plain": [
       "Index(['PassengerId', 'Survived', 'Pclass', 'Name', 'Sex', 'Age', 'SibSp',\n",
       "       'Parch', 'Ticket', 'Fare', 'Cabin', 'Embarked'],\n",
       "      dtype='object')"
      ]
     },
     "execution_count": 5,
     "metadata": {},
     "output_type": "execute_result"
    }
   ],
   "source": [
    "df = load_data(file_path=TRAIN_FILE_PATH)\n",
    "df.columns"
   ]
  },
  {
   "cell_type": "markdown",
   "metadata": {},
   "source": [
    "### Step 3: We'll follow lecture 3 as close as possible. \n",
    "\n",
    "Here, we'll scoop only the columns that Jeremy has used in the lecture. We will also enrich our data-frame with the same logic as the lecture. We will prepare new columns for class, embarked, fare, and male/female. \n",
    "\n",
    "*Note*: The overall flow and even the column names are kept the same as in the excel file. We replace `Ones` column with `Const` in dataframe so that it alights with `Const` feature in the features list."
   ]
  },
  {
   "cell_type": "code",
   "execution_count": 6,
   "metadata": {},
   "outputs": [
    {
     "data": {
      "text/plain": [
       "Index(['Survived', 'Embarked', 'Pclass', 'Sex', 'Age', 'Fare', 'SibSp',\n",
       "       'Parch'],\n",
       "      dtype='object')"
      ]
     },
     "execution_count": 6,
     "metadata": {},
     "output_type": "execute_result"
    }
   ],
   "source": [
    "nec_cols = [\"Survived\", \"Embarked\", \"Pclass\", \"Sex\", \"Age\", \"Fare\", \"SibSp\", \"Parch\"]\n",
    "df_nec = df[nec_cols]\n",
    "df_nec.columns"
   ]
  },
  {
   "cell_type": "code",
   "execution_count": 7,
   "metadata": {},
   "outputs": [
    {
     "name": "stdout",
     "output_type": "stream",
     "text": [
      "<class 'pandas.core.frame.DataFrame'>\n",
      "RangeIndex: 891 entries, 0 to 890\n",
      "Data columns (total 8 columns):\n",
      " #   Column    Non-Null Count  Dtype  \n",
      "---  ------    --------------  -----  \n",
      " 0   Survived  891 non-null    int64  \n",
      " 1   Embarked  889 non-null    object \n",
      " 2   Pclass    891 non-null    int64  \n",
      " 3   Sex       891 non-null    object \n",
      " 4   Age       714 non-null    float64\n",
      " 5   Fare      891 non-null    float64\n",
      " 6   SibSp     891 non-null    int64  \n",
      " 7   Parch     891 non-null    int64  \n",
      "dtypes: float64(2), int64(4), object(2)\n",
      "memory usage: 55.8+ KB\n"
     ]
    }
   ],
   "source": [
    "# hide\n",
    "df_nec.info()"
   ]
  },
  {
   "cell_type": "markdown",
   "metadata": {},
   "source": [
    "Same as the lecture, since many rows are empty, we'll only get non-empty rows. We get around 712 rows of data. "
   ]
  },
  {
   "cell_type": "code",
   "execution_count": 8,
   "metadata": {},
   "outputs": [],
   "source": [
    "df_nec = df_nec.dropna(how='any',axis=0) "
   ]
  },
  {
   "cell_type": "markdown",
   "metadata": {},
   "source": [
    "Now we need to enrich our dataframe i.e. make new features based on the data. \n",
    "\n",
    "Per the lecture, we follow new columns for features: Pclass, Embark, Age, and Fare. Let's apply similar logic and transformation"
   ]
  },
  {
   "cell_type": "code",
   "execution_count": 9,
   "metadata": {},
   "outputs": [
    {
     "name": "stdout",
     "output_type": "stream",
     "text": [
      "Max age is: 80.0\n"
     ]
    }
   ],
   "source": [
    "# Age & Fare columns transform\n",
    "max_age = df_nec[\"Age\"].max()\n",
    "print(f\"Max age is: {max_age}\")\n",
    "\n",
    "df_nec[\"Age_N\"] = df_nec[\"Age\"] / max_age\n",
    "df_nec[\"log_Fare\"] = np.log10(df_nec[\"Fare\"]+1)\n",
    "\n",
    "# Pclass_1 & Pclass_2\n",
    "df_nec[\"Pclass_1\"] = (df_nec[\"Pclass\"] == 1).astype(int)\n",
    "df_nec[\"Pclass_2\"] = (df_nec[\"Pclass\"] == 2).astype(int)\n",
    "\n",
    "# Embark_S and Embark_C\n",
    "df_nec[\"Embark_S\"] = (df_nec[\"Embarked\"] == \"S\").astype(int)\n",
    "df_nec[\"Embark_C\"] = (df_nec[\"Embarked\"] == \"C\").astype(int)\n",
    "\n",
    "# Male\n",
    "df_nec[\"Male\"] = (df_nec[\"Sex\"] == \"male\").astype(int)\n",
    "\n",
    "df_nec[\"Const\"] = 1\n",
    "\n",
    "Y = df_nec[\"Survived\"].values.reshape(len(df_nec),1)\n",
    "# df_nec.columns"
   ]
  },
  {
   "cell_type": "markdown",
   "metadata": {},
   "source": [
    "### Step 4: Initialize the weights\n",
    "Now that we have our data ready, we initialize the weights randomly. Columns `R-AA` in excel sheet. "
   ]
  },
  {
   "cell_type": "code",
   "execution_count": 10,
   "metadata": {},
   "outputs": [],
   "source": [
    "params_features = [\"SibSp\", \"Parch\", \"Age_N\", \"log_Fare\", \"Pclass_1\", \"Pclass_2\", \"Embark_S\", \\\n",
    "    \"Embark_C\", \"Male\", \"Const\"]\n",
    "df_nec_num = df_nec[params_features]\n",
    "np.random.seed(0)\n",
    "rand_initializers = np.random.uniform(low=0, high=1, size=(len(params_features), 1)).round(2)"
   ]
  },
  {
   "cell_type": "code",
   "execution_count": 11,
   "metadata": {},
   "outputs": [
    {
     "data": {
      "text/plain": [
       "array([[0.55],\n",
       "       [0.72],\n",
       "       [0.6 ],\n",
       "       [0.54],\n",
       "       [0.42],\n",
       "       [0.65],\n",
       "       [0.44],\n",
       "       [0.89],\n",
       "       [0.96],\n",
       "       [0.38]])"
      ]
     },
     "execution_count": 11,
     "metadata": {},
     "output_type": "execute_result"
    }
   ],
   "source": [
    "rand_initializers"
   ]
  },
  {
   "cell_type": "code",
   "execution_count": 12,
   "metadata": {},
   "outputs": [],
   "source": [
    "# hide\n",
    "# now we build the model and loss function\n",
    "# prediction_1_n = w_SibSp*SibSp_1 + w_Parch*Parch_1 + w_Age_N*Age_N_1 + w_log_Fare * log_Fare_1 + \\\n",
    "#     w_Pclass_1 * Pclass_1_1 + w_Pclass_2 * Pclass_2_1 + w_Embark_S + Embark_S_1 + w_Embark_C + Embark_C_1 + \\\n",
    "#         w_Male * Male_1 + w_Const * Const_1\n",
    "# Now, \n",
    "# we need to compute predictions for all example"
   ]
  },
  {
   "cell_type": "code",
   "execution_count": 13,
   "metadata": {},
   "outputs": [],
   "source": [
    "# hide\n",
    "# preds = compute_model_output(X=df_nec_num, W=rand_initializers).values.reshape(len(df_nec), 1)\n",
    "# Y = df_nec[\"Survived\"].values.reshape(len(df_nec),1)"
   ]
  },
  {
   "cell_type": "markdown",
   "metadata": {},
   "source": [
    "### Step 5: Cost and Prediction walkthrough (Linear Regression)\n",
    "\n",
    "Cost and Prediction functions are defined in the following cells for understanding. These are used for calculating cost and predictions of our model. \n",
    "\n",
    "For cost, we take the `sum` as opposed to `average` in the excel file. \n"
   ]
  },
  {
   "cell_type": "code",
   "execution_count": 14,
   "metadata": {},
   "outputs": [],
   "source": [
    "def compute_cost(predictions, Y):\n",
    "    \"\"\"\n",
    "    calculate cost based on two column vectors of size n x 1\n",
    "    \"\"\"\n",
    "    m = len(Y)\n",
    "    cost_per_datapoint = np.subtract(predictions, Y)**2\n",
    "    total_cost = sum(cost_per_datapoint)\n",
    "    # total_cost = sum(cost_per_datapoint/(2*m))\n",
    "    return total_cost\n",
    "\n",
    "def compute_model_output(X, W):\n",
    "    # model: X*W \n",
    "        # W = n x 1, \n",
    "        # X = n x m\n",
    "        # n: number of features (weights) + constant term\n",
    "        # m: number of training examples\n",
    "    \n",
    "    # output: predictions (n x 1)\n",
    "    \n",
    "    return np.matmul(X, W)"
   ]
  },
  {
   "cell_type": "markdown",
   "metadata": {},
   "source": [
    "### Step 6: Use above functions and optimize the weights. (Linear Regression)\n",
    "\n",
    "We optimize the weights from random numbers with an ojective to minimize loss/cost defined above. "
   ]
  },
  {
   "cell_type": "code",
   "execution_count": 15,
   "metadata": {},
   "outputs": [
    {
     "name": "stdout",
     "output_type": "stream",
     "text": [
      "Iteration # 0, cost: [6936.00736642]\n",
      "Iteration # 8, cost: [298.12898267]\n",
      "Iteration # 16, cost: [250.16788143]\n",
      "Iteration # 24, cost: [216.89097022]\n",
      "Iteration # 32, cost: [192.44287041]\n",
      "Iteration # 40, cost: [174.63487796]\n",
      "Iteration # 48, cost: [160.97752133]\n",
      "Iteration # 56, cost: [150.915957]\n",
      "Iteration # 64, cost: [143.19206508]\n",
      "Iteration # 72, cost: [137.17995749]\n"
     ]
    }
   ],
   "source": [
    "weights, costs = gradient_decent(iterations=ITERATIONS, W=rand_initializers, X=df_nec_num, Y=Y, alpha=0.1)"
   ]
  },
  {
   "cell_type": "markdown",
   "metadata": {},
   "source": [
    "### Step 7: Neural Network implementation \n",
    "\n",
    "Note that we only implement the Neural Network as shown in the lecture and this is purely for understanding purposes. There is a possibility that production Neural Nets work in a slightly polished/refined way. The underlying components remain the same. \n",
    "\n",
    "For neural nets, we do the following computes: \n",
    "- We calculate linear regression twice with a different set of randomly initialized feature weights. \n",
    "- Then we apply ReLU – which is where we replace negative values in our predictions with zero. \n",
    "- Finally, we add these two individual predictions up and call Neural Network predictions. \n",
    "\n",
    "Following is the function we use for calculating the predictions of a Nural Network. Logic follows the excel file and lecture 3. "
   ]
  },
  {
   "cell_type": "code",
   "execution_count": 16,
   "metadata": {},
   "outputs": [],
   "source": [
    "def compute_model_output_nn(X, W):\n",
    "    # model: X*W \n",
    "        # W = n x 1, \n",
    "        # X = n x m\n",
    "        # n: number of features (weights) + constant term\n",
    "        # m: number of training examples\n",
    "    \n",
    "    # output: predictions (n x 1)\n",
    "    \n",
    "    linear_preds = np.matmul(X, W) \n",
    "    # this returns the matrix of dimentions (n x 2). Each column as separate linear regression prediction. \n",
    "    \n",
    "    # now, we apply ReLU to the predictions\n",
    "    lin_relu_preds = np.where(linear_preds < 0, 0, linear_preds) # make negative values zero\n",
    "\n",
    "    # now, we take sum of these two predictions \n",
    "    return np.sum(lin_relu_preds, axis=1) # sum "
   ]
  },
  {
   "cell_type": "code",
   "execution_count": 17,
   "metadata": {},
   "outputs": [],
   "source": [
    "np.random.seed(0)\n",
    "rand_initializers_dl = np.random.uniform(low=0, high=1, size=(len(params_features), 2)).round(2)"
   ]
  },
  {
   "cell_type": "code",
   "execution_count": 18,
   "metadata": {},
   "outputs": [
    {
     "name": "stdout",
     "output_type": "stream",
     "text": [
      "Iteration # 0, cost: [37825.41313583]\n",
      "Iteration # 8, cost: [228.30451932]\n",
      "Iteration # 16, cost: [184.92278215]\n",
      "Iteration # 24, cost: [159.92333415]\n",
      "Iteration # 32, cost: [145.00889701]\n",
      "Iteration # 40, cost: [135.83319126]\n",
      "Iteration # 48, cost: [130.18663049]\n",
      "Iteration # 56, cost: [126.39428926]\n",
      "Iteration # 64, cost: [123.72175152]\n",
      "Iteration # 72, cost: [121.67674539]\n"
     ]
    }
   ],
   "source": [
    "weights_dl, costs_dl = gradient_decent_nn(iterations=ITERATIONS, W=rand_initializers_dl, X=df_nec_num, Y=Y, alpha=0.1)"
   ]
  },
  {
   "cell_type": "markdown",
   "metadata": {},
   "source": [
    "### Step 8: [Optional] Try to intuitively understand efficiency of learning.\n",
    "\n",
    "Here we try to make sense of Linear Regression vs. Neural Network algorithms costs after training them with the same number of pre-defined iterations. \n",
    "\n",
    "We plot the *Loss vs. Training Iterations* graph of both Linear Regression and Neural Network algorithms. It's evident that Neural Network learns more effectively and has consistently lower loss as opposed to the Linear Regression algorithm. \n",
    "\n",
    "This highlights the beauty of Neural Nets where they represent the data more effectively. \n",
    "\n",
    "*Note*: The Y axis of the graph is in the log scale. \n",
    "As Jeremy mentioned: \"The Log scale makes really big numbers small and does not change small numbers much so it's easier to understand in certain cases.\""
   ]
  },
  {
   "cell_type": "code",
   "execution_count": 19,
   "metadata": {},
   "outputs": [
    {
     "data": {
      "image/png": "[encoded data removed]",
      "text/plain": [
       "<Figure size 960x640 with 1 Axes>"
      ]
     },
     "metadata": {
      "needs_background": "light"
     },
     "output_type": "display_data"
    }
   ],
   "source": [
    "import matplotlib.pyplot as plt\n",
    "from matplotlib.pyplot import figure\n",
    "\n",
    "figure(figsize=(12, 8), dpi=80)\n",
    "\n",
    "plt.plot(costs, lw=3)\n",
    "plt.plot(costs_dl, lw=3)\n",
    "plt.yscale('log')\n",
    "plt.legend(['Linear Regression', 'Neural Network with ReLU'], loc='upper right')\n",
    "plt.title('Loss wrt. Iterations: Linear Regression vs. Neural Network')\n",
    "plt.xlabel('Iterations', fontsize=14)\n",
    "plt.ylabel('Loss', fontsize=14)\n",
    "plt.show()\n"
   ]
  },
  {
   "cell_type": "code",
   "execution_count": null,
   "metadata": {},
   "outputs": [],
   "source": []
  }
 ],
 "metadata": {
  "kernelspec": {
   "display_name": "Python 3.8.13",
   "language": "python",
   "name": "python3"
  },
  "language_info": {
   "codemirror_mode": {
    "name": "ipython",
    "version": 3
   },
   "file_extension": ".py",
   "mimetype": "text/x-python",
   "name": "python",
   "nbconvert_exporter": "python",
   "pygments_lexer": "ipython3",
   "version": "3.8.13"
  },
  "orig_nbformat": 4,
  "vscode": {
   "interpreter": {
    "hash": "9fd04168d8a78db34b5d4c73b1c7702e292dfb6efdc1b75d744cdd056ebd7527"
   }
  }
 },
 "nbformat": 4,
 "nbformat_minor": 2
}
